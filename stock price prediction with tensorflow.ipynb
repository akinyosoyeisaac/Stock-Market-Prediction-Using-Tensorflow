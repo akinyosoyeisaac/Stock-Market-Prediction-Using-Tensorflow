{
 "cells": [
  {
   "cell_type": "code",
   "execution_count": 29,
   "metadata": {},
   "outputs": [],
   "source": [
    "import numpy as np\n",
    "import pandas as pd \n",
    "import matplotlib.pyplot as plt\n",
    "from sklearn.preprocessing import MinMaxScaler\n",
    "from sklearn.metrics import mean_squared_error, r2_score"
   ]
  },
  {
   "cell_type": "code",
   "execution_count": 2,
   "metadata": {},
   "outputs": [],
   "source": [
    "from tensorflow.keras.models import Sequential\n",
    "from tensorflow.keras.layers import Dense, LSTM, Dropout"
   ]
  },
  {
   "cell_type": "code",
   "execution_count": 3,
   "metadata": {},
   "outputs": [
    {
     "data": {
      "text/html": [
       "<div>\n",
       "<style scoped>\n",
       "    .dataframe tbody tr th:only-of-type {\n",
       "        vertical-align: middle;\n",
       "    }\n",
       "\n",
       "    .dataframe tbody tr th {\n",
       "        vertical-align: top;\n",
       "    }\n",
       "\n",
       "    .dataframe thead th {\n",
       "        text-align: right;\n",
       "    }\n",
       "</style>\n",
       "<table border=\"1\" class=\"dataframe\">\n",
       "  <thead>\n",
       "    <tr style=\"text-align: right;\">\n",
       "      <th></th>\n",
       "      <th>Date</th>\n",
       "      <th>Open</th>\n",
       "      <th>High</th>\n",
       "      <th>Low</th>\n",
       "      <th>Close</th>\n",
       "      <th>Adj Close</th>\n",
       "      <th>Volume</th>\n",
       "    </tr>\n",
       "  </thead>\n",
       "  <tbody>\n",
       "    <tr>\n",
       "      <th>0</th>\n",
       "      <td>1980-12-12</td>\n",
       "      <td>0.128348</td>\n",
       "      <td>0.128906</td>\n",
       "      <td>0.128348</td>\n",
       "      <td>0.128348</td>\n",
       "      <td>0.100600</td>\n",
       "      <td>469033600</td>\n",
       "    </tr>\n",
       "    <tr>\n",
       "      <th>1</th>\n",
       "      <td>1980-12-15</td>\n",
       "      <td>0.122210</td>\n",
       "      <td>0.122210</td>\n",
       "      <td>0.121652</td>\n",
       "      <td>0.121652</td>\n",
       "      <td>0.095352</td>\n",
       "      <td>175884800</td>\n",
       "    </tr>\n",
       "    <tr>\n",
       "      <th>2</th>\n",
       "      <td>1980-12-16</td>\n",
       "      <td>0.113281</td>\n",
       "      <td>0.113281</td>\n",
       "      <td>0.112723</td>\n",
       "      <td>0.112723</td>\n",
       "      <td>0.088353</td>\n",
       "      <td>105728000</td>\n",
       "    </tr>\n",
       "    <tr>\n",
       "      <th>3</th>\n",
       "      <td>1980-12-17</td>\n",
       "      <td>0.115513</td>\n",
       "      <td>0.116071</td>\n",
       "      <td>0.115513</td>\n",
       "      <td>0.115513</td>\n",
       "      <td>0.090540</td>\n",
       "      <td>86441600</td>\n",
       "    </tr>\n",
       "    <tr>\n",
       "      <th>4</th>\n",
       "      <td>1980-12-18</td>\n",
       "      <td>0.118862</td>\n",
       "      <td>0.119420</td>\n",
       "      <td>0.118862</td>\n",
       "      <td>0.118862</td>\n",
       "      <td>0.093165</td>\n",
       "      <td>73449600</td>\n",
       "    </tr>\n",
       "  </tbody>\n",
       "</table>\n",
       "</div>"
      ],
      "text/plain": [
       "         Date      Open      High       Low     Close  Adj Close     Volume\n",
       "0  1980-12-12  0.128348  0.128906  0.128348  0.128348   0.100600  469033600\n",
       "1  1980-12-15  0.122210  0.122210  0.121652  0.121652   0.095352  175884800\n",
       "2  1980-12-16  0.113281  0.113281  0.112723  0.112723   0.088353  105728000\n",
       "3  1980-12-17  0.115513  0.116071  0.115513  0.115513   0.090540   86441600\n",
       "4  1980-12-18  0.118862  0.119420  0.118862  0.118862   0.093165   73449600"
      ]
     },
     "execution_count": 3,
     "metadata": {},
     "output_type": "execute_result"
    }
   ],
   "source": [
    "df = pd.read_csv('AAPL.csv')\n",
    "df.head()"
   ]
  },
  {
   "cell_type": "code",
   "execution_count": 4,
   "metadata": {},
   "outputs": [
    {
     "name": "stdout",
     "output_type": "stream",
     "text": [
      "<class 'pandas.core.frame.DataFrame'>\n",
      "RangeIndex: 10216 entries, 0 to 10215\n",
      "Data columns (total 7 columns):\n",
      " #   Column     Non-Null Count  Dtype  \n",
      "---  ------     --------------  -----  \n",
      " 0   Date       10216 non-null  object \n",
      " 1   Open       10216 non-null  float64\n",
      " 2   High       10216 non-null  float64\n",
      " 3   Low        10216 non-null  float64\n",
      " 4   Close      10216 non-null  float64\n",
      " 5   Adj Close  10216 non-null  float64\n",
      " 6   Volume     10216 non-null  int64  \n",
      "dtypes: float64(5), int64(1), object(1)\n",
      "memory usage: 558.8+ KB\n"
     ]
    }
   ],
   "source": [
    "df.info()"
   ]
  },
  {
   "cell_type": "code",
   "execution_count": 5,
   "metadata": {},
   "outputs": [
    {
     "data": {
      "text/plain": [
       "Date         0\n",
       "Open         0\n",
       "High         0\n",
       "Low          0\n",
       "Close        0\n",
       "Adj Close    0\n",
       "Volume       0\n",
       "dtype: int64"
      ]
     },
     "execution_count": 5,
     "metadata": {},
     "output_type": "execute_result"
    }
   ],
   "source": [
    "df.isna().sum()"
   ]
  },
  {
   "cell_type": "code",
   "execution_count": 6,
   "metadata": {},
   "outputs": [],
   "source": [
    "df1 = df['Low']"
   ]
  },
  {
   "cell_type": "code",
   "execution_count": 7,
   "metadata": {},
   "outputs": [
    {
     "data": {
      "text/plain": [
       "pandas.core.series.Series"
      ]
     },
     "execution_count": 7,
     "metadata": {},
     "output_type": "execute_result"
    }
   ],
   "source": [
    "type(df1)"
   ]
  },
  {
   "cell_type": "code",
   "execution_count": 8,
   "metadata": {},
   "outputs": [
    {
     "data": {
      "text/plain": [
       "(array([], dtype=int64),)"
      ]
     },
     "execution_count": 8,
     "metadata": {},
     "output_type": "execute_result"
    }
   ],
   "source": [
    "np.where(pd.isnull(df1))"
   ]
  },
  {
   "cell_type": "code",
   "execution_count": 9,
   "metadata": {},
   "outputs": [
    {
     "data": {
      "image/png": "[encoded data removed]",
      "text/plain": [
       "<Figure size 1080x360 with 1 Axes>"
      ]
     },
     "metadata": {
      "needs_background": "light"
     },
     "output_type": "display_data"
    }
   ],
   "source": [
    "plt.figure(figsize=(15,5))\n",
    "plt.plot(df1);"
   ]
  },
  {
   "cell_type": "code",
   "execution_count": 10,
   "metadata": {},
   "outputs": [],
   "source": [
    "scaler = MinMaxScaler()\n",
    "df1 = scaler.fit_transform(np.array(df1).reshape(-1,1))"
   ]
  },
  {
   "cell_type": "code",
   "execution_count": 11,
   "metadata": {},
   "outputs": [
    {
     "data": {
      "text/plain": [
       "array([[0.00056072],\n",
       "       [0.00051334],\n",
       "       [0.00045015],\n",
       "       [0.0004699 ],\n",
       "       [0.00049359],\n",
       "       [0.00054492],\n",
       "       [0.00058836],\n",
       "       [0.00062785],\n",
       "       [0.00067918],\n",
       "       [0.00077395]])"
      ]
     },
     "execution_count": 11,
     "metadata": {},
     "output_type": "execute_result"
    }
   ],
   "source": [
    "df1[:10, :]"
   ]
  },
  {
   "cell_type": "code",
   "execution_count": 12,
   "metadata": {},
   "outputs": [],
   "source": [
    "train_size = int(len(df1)*0.8)\n",
    "test_size = len(df1) - train_size\n",
    "train_data, test_data = df1[:train_size, :], df1[train_size:, :]"
   ]
  },
  {
   "cell_type": "code",
   "execution_count": 13,
   "metadata": {},
   "outputs": [
    {
     "data": {
      "text/plain": [
       "(8172, 2044)"
      ]
     },
     "execution_count": 13,
     "metadata": {},
     "output_type": "execute_result"
    }
   ],
   "source": [
    "train_size, test_size"
   ]
  },
  {
   "cell_type": "code",
   "execution_count": 14,
   "metadata": {},
   "outputs": [],
   "source": [
    "def create_dataset(dataset, time_step=1):\n",
    "    dataX, dataY = [], []\n",
    "    for i in range(len(dataset)-time_step-1):\n",
    "        a = dataset[i: (i + time_step), 0]\n",
    "        dataX.append(a)\n",
    "        dataY.append(dataset[i + time_step, 0])\n",
    "    return np.array(dataX), np.array(dataY)"
   ]
  },
  {
   "cell_type": "code",
   "execution_count": 15,
   "metadata": {},
   "outputs": [],
   "source": [
    "time_step = 100\n",
    "X_train, y_train = create_dataset(train_data, time_step)\n",
    "X_test, y_test = create_dataset(test_data, time_step)"
   ]
  },
  {
   "cell_type": "code",
   "execution_count": 23,
   "metadata": {},
   "outputs": [],
   "source": [
    "model= Sequential()\n",
    "model.add(LSTM(50, activation='relu', return_sequences=True, input_shape = (X_train.shape[1], 1)))\n",
    "model.add(Dropout(0.2))\n",
    "model.add(LSTM(50, return_sequences=True))\n",
    "model.add(Dropout(0.2))\n",
    "model.add(LSTM(50))\n",
    "model.add(Dense(1))\n",
    "model.compile(loss='mean_squared_error', optimizer='adam')"
   ]
  },
  {
   "cell_type": "code",
   "execution_count": 17,
   "metadata": {},
   "outputs": [
    {
     "name": "stdout",
     "output_type": "stream",
     "text": [
      "Model: \"sequential\"\n",
      "_________________________________________________________________\n",
      "Layer (type)                 Output Shape              Param #   \n",
      "=================================================================\n",
      "lstm (LSTM)                  (None, 100, 50)           10400     \n",
      "_________________________________________________________________\n",
      "dropout (Dropout)            (None, 100, 50)           0         \n",
      "_________________________________________________________________\n",
      "lstm_1 (LSTM)                (None, 100, 50)           20200     \n",
      "_________________________________________________________________\n",
      "dropout_1 (Dropout)          (None, 100, 50)           0         \n",
      "_________________________________________________________________\n",
      "lstm_2 (LSTM)                (None, 50)                20200     \n",
      "_________________________________________________________________\n",
      "dense (Dense)                (None, 1)                 51        \n",
      "=================================================================\n",
      "Total params: 50,851\n",
      "Trainable params: 50,851\n",
      "Non-trainable params: 0\n",
      "_________________________________________________________________\n"
     ]
    }
   ],
   "source": [
    "model.summary()"
   ]
  },
  {
   "cell_type": "code",
   "execution_count": 19,
   "metadata": {},
   "outputs": [
    {
     "data": {
      "text/plain": [
       "(8071, 100)"
      ]
     },
     "execution_count": 19,
     "metadata": {},
     "output_type": "execute_result"
    }
   ],
   "source": [
    "X_train.shape"
   ]
  },
  {
   "cell_type": "code",
   "execution_count": 24,
   "metadata": {
    "collapsed": true,
    "jupyter": {
     "outputs_hidden": true
    }
   },
   "outputs": [
    {
     "name": "stdout",
     "output_type": "stream",
     "text": [
      "Epoch 1/100\n",
      "127/127 [==============================] - 34s 218ms/step - loss: 2.8060e-05\n",
      "Epoch 2/100\n",
      "127/127 [==============================] - 29s 231ms/step - loss: 0.0014\n",
      "Epoch 3/100\n",
      "127/127 [==============================] - 29s 229ms/step - loss: 0.0010\n",
      "Epoch 4/100\n",
      "127/127 [==============================] - 29s 229ms/step - loss: 7.6419e-04\n",
      "Epoch 5/100\n",
      "127/127 [==============================] - 29s 230ms/step - loss: 8.3202e-04\n",
      "Epoch 6/100\n",
      "127/127 [==============================] - 29s 227ms/step - loss: 8.6757e-04\n",
      "Epoch 7/100\n",
      "127/127 [==============================] - 29s 228ms/step - loss: 0.0011\n",
      "Epoch 8/100\n",
      "127/127 [==============================] - 30s 232ms/step - loss: 0.0011\n",
      "Epoch 9/100\n",
      "127/127 [==============================] - 29s 225ms/step - loss: 9.5159e-04\n",
      "Epoch 10/100\n",
      "127/127 [==============================] - 28s 223ms/step - loss: 0.0032\n",
      "Epoch 11/100\n",
      "127/127 [==============================] - 28s 220ms/step - loss: 0.0025\n",
      "Epoch 12/100\n",
      "127/127 [==============================] - 30s 239ms/step - loss: 0.0019\n",
      "Epoch 13/100\n",
      "127/127 [==============================] - 31s 246ms/step - loss: 0.0016\n",
      "Epoch 14/100\n",
      "127/127 [==============================] - 27s 213ms/step - loss: 0.0015\n",
      "Epoch 15/100\n",
      "127/127 [==============================] - 27s 209ms/step - loss: 0.0014\n",
      "Epoch 16/100\n",
      "127/127 [==============================] - 26s 208ms/step - loss: 0.0014\n",
      "Epoch 17/100\n",
      "127/127 [==============================] - 28s 224ms/step - loss: 0.0014\n",
      "Epoch 18/100\n",
      "127/127 [==============================] - 32s 255ms/step - loss: 0.0014\n",
      "Epoch 19/100\n",
      "127/127 [==============================] - 28s 224ms/step - loss: 0.0013\n",
      "Epoch 20/100\n",
      "127/127 [==============================] - 35s 273ms/step - loss: 0.0013\n",
      "Epoch 21/100\n",
      "127/127 [==============================] - 31s 243ms/step - loss: 0.0013\n",
      "Epoch 22/100\n",
      "127/127 [==============================] - 28s 218ms/step - loss: 0.0013\n",
      "Epoch 23/100\n",
      "127/127 [==============================] - 32s 249ms/step - loss: 0.0012\n",
      "Epoch 24/100\n",
      "127/127 [==============================] - 42s 332ms/step - loss: 0.0012\n",
      "Epoch 25/100\n",
      "127/127 [==============================] - 35s 273ms/step - loss: 0.0012\n",
      "Epoch 26/100\n",
      "127/127 [==============================] - 31s 243ms/step - loss: 0.0012\n",
      "Epoch 27/100\n",
      "127/127 [==============================] - 34s 271ms/step - loss: 0.0012\n",
      "Epoch 28/100\n",
      "127/127 [==============================] - 29s 228ms/step - loss: 0.0012\n",
      "Epoch 29/100\n",
      "127/127 [==============================] - 30s 236ms/step - loss: 0.0012\n",
      "Epoch 30/100\n",
      "127/127 [==============================] - 29s 226ms/step - loss: 0.0012\n",
      "Epoch 31/100\n",
      "127/127 [==============================] - 29s 225ms/step - loss: 0.0012\n",
      "Epoch 32/100\n",
      "127/127 [==============================] - 30s 237ms/step - loss: 0.0012\n",
      "Epoch 33/100\n",
      "127/127 [==============================] - 29s 232ms/step - loss: 0.0012\n",
      "Epoch 34/100\n",
      "127/127 [==============================] - 29s 227ms/step - loss: 0.0012\n",
      "Epoch 35/100\n",
      "127/127 [==============================] - 28s 217ms/step - loss: 0.0012\n",
      "Epoch 36/100\n",
      "127/127 [==============================] - 27s 216ms/step - loss: 0.0012\n",
      "Epoch 37/100\n",
      "127/127 [==============================] - 28s 219ms/step - loss: 0.0012\n",
      "Epoch 38/100\n",
      "127/127 [==============================] - 28s 220ms/step - loss: 0.0012\n",
      "Epoch 39/100\n",
      "127/127 [==============================] - 28s 221ms/step - loss: 0.0012\n",
      "Epoch 40/100\n",
      "127/127 [==============================] - 26s 208ms/step - loss: 0.0012\n",
      "Epoch 41/100\n",
      "127/127 [==============================] - 27s 209ms/step - loss: 0.0012\n",
      "Epoch 42/100\n",
      "127/127 [==============================] - 27s 210ms/step - loss: 0.0012\n",
      "Epoch 43/100\n",
      "127/127 [==============================] - 27s 214ms/step - loss: 0.0012\n",
      "Epoch 44/100\n",
      "127/127 [==============================] - 27s 209ms/step - loss: 0.0011\n",
      "Epoch 45/100\n",
      "127/127 [==============================] - 27s 209ms/step - loss: 0.0011\n",
      "Epoch 46/100\n",
      "127/127 [==============================] - 26s 208ms/step - loss: 0.0012\n",
      "Epoch 47/100\n",
      "127/127 [==============================] - 27s 209ms/step - loss: 0.0012\n",
      "Epoch 48/100\n",
      "127/127 [==============================] - 27s 216ms/step - loss: 0.0012\n",
      "Epoch 49/100\n",
      "127/127 [==============================] - 28s 221ms/step - loss: 0.0012\n",
      "Epoch 50/100\n",
      "127/127 [==============================] - 28s 224ms/step - loss: 0.0012\n",
      "Epoch 51/100\n",
      "127/127 [==============================] - 27s 209ms/step - loss: 0.0011\n",
      "Epoch 52/100\n",
      "127/127 [==============================] - 27s 211ms/step - loss: 0.0012\n",
      "Epoch 53/100\n",
      "127/127 [==============================] - 27s 210ms/step - loss: 0.0011\n",
      "Epoch 54/100\n",
      "127/127 [==============================] - 27s 210ms/step - loss: 0.0012\n",
      "Epoch 55/100\n",
      "127/127 [==============================] - 28s 221ms/step - loss: 0.0012\n",
      "Epoch 56/100\n",
      "127/127 [==============================] - 29s 226ms/step - loss: 0.0011\n",
      "Epoch 57/100\n",
      "127/127 [==============================] - 28s 222ms/step - loss: 0.0011\n",
      "Epoch 58/100\n",
      "127/127 [==============================] - 27s 209ms/step - loss: 0.0011\n",
      "Epoch 59/100\n",
      "127/127 [==============================] - 27s 212ms/step - loss: 0.0011\n",
      "Epoch 60/100\n",
      "127/127 [==============================] - 27s 211ms/step - loss: 0.0011\n",
      "Epoch 61/100\n",
      "127/127 [==============================] - 27s 212ms/step - loss: 0.0011\n",
      "Epoch 62/100\n",
      "127/127 [==============================] - 27s 213ms/step - loss: 0.0011\n",
      "Epoch 63/100\n",
      "127/127 [==============================] - 27s 213ms/step - loss: 0.0011\n",
      "Epoch 64/100\n",
      "127/127 [==============================] - 27s 210ms/step - loss: 0.0011\n",
      "Epoch 65/100\n",
      "127/127 [==============================] - 27s 210ms/step - loss: 0.0011\n",
      "Epoch 66/100\n",
      "127/127 [==============================] - 27s 209ms/step - loss: 0.0011\n",
      "Epoch 67/100\n",
      "127/127 [==============================] - 27s 210ms/step - loss: 0.0011\n",
      "Epoch 68/100\n",
      "127/127 [==============================] - 27s 211ms/step - loss: 0.0011\n",
      "Epoch 69/100\n",
      "127/127 [==============================] - 27s 216ms/step - loss: 0.0011\n",
      "Epoch 70/100\n",
      "127/127 [==============================] - 26s 208ms/step - loss: 0.0011\n",
      "Epoch 71/100\n",
      "127/127 [==============================] - 27s 209ms/step - loss: 0.0011\n",
      "Epoch 72/100\n",
      "127/127 [==============================] - 27s 216ms/step - loss: 0.0011\n",
      "Epoch 73/100\n",
      "127/127 [==============================] - 27s 213ms/step - loss: 0.0011\n",
      "Epoch 74/100\n",
      "127/127 [==============================] - 29s 231ms/step - loss: 0.0011\n",
      "Epoch 75/100\n",
      "127/127 [==============================] - 29s 225ms/step - loss: 0.0012\n",
      "Epoch 76/100\n",
      "127/127 [==============================] - 28s 223ms/step - loss: 0.0010\n",
      "Epoch 77/100\n",
      "127/127 [==============================] - 29s 225ms/step - loss: 9.9512e-04\n",
      "Epoch 78/100\n",
      "127/127 [==============================] - 28s 217ms/step - loss: 0.0011\n",
      "Epoch 79/100\n",
      "127/127 [==============================] - 28s 218ms/step - loss: 0.0010\n",
      "Epoch 80/100\n",
      "127/127 [==============================] - 28s 217ms/step - loss: 0.0010\n",
      "Epoch 81/100\n",
      "127/127 [==============================] - 28s 217ms/step - loss: 8.5703e-04\n",
      "Epoch 82/100\n",
      "127/127 [==============================] - 27s 216ms/step - loss: 7.6862e-04\n",
      "Epoch 83/100\n",
      "127/127 [==============================] - 28s 224ms/step - loss: 7.8317e-04\n",
      "Epoch 84/100\n",
      "127/127 [==============================] - 27s 209ms/step - loss: 8.8676e-04\n",
      "Epoch 85/100\n",
      "127/127 [==============================] - 30s 235ms/step - loss: 0.0017\n",
      "Epoch 86/100\n",
      "127/127 [==============================] - 28s 221ms/step - loss: 0.0034\n",
      "Epoch 87/100\n",
      "127/127 [==============================] - 28s 218ms/step - loss: 0.0014\n",
      "Epoch 88/100\n",
      "127/127 [==============================] - 27s 215ms/step - loss: 0.0011\n",
      "Epoch 89/100\n",
      "127/127 [==============================] - 27s 212ms/step - loss: 9.5413e-04\n",
      "Epoch 90/100\n",
      "127/127 [==============================] - 27s 211ms/step - loss: 9.1604e-04\n",
      "Epoch 91/100\n",
      "127/127 [==============================] - 27s 211ms/step - loss: 9.5108e-04\n",
      "Epoch 92/100\n",
      "127/127 [==============================] - 27s 211ms/step - loss: 9.2981e-04\n",
      "Epoch 93/100\n",
      "127/127 [==============================] - 27s 211ms/step - loss: 8.8797e-04\n",
      "Epoch 94/100\n",
      "127/127 [==============================] - 27s 211ms/step - loss: 9.3036e-04\n",
      "Epoch 95/100\n",
      "127/127 [==============================] - 27s 211ms/step - loss: 9.2848e-04\n",
      "Epoch 96/100\n",
      "127/127 [==============================] - 27s 210ms/step - loss: 9.5655e-04\n",
      "Epoch 97/100\n",
      "127/127 [==============================] - 27s 210ms/step - loss: 9.5850e-04\n",
      "Epoch 98/100\n",
      "127/127 [==============================] - 27s 215ms/step - loss: 9.4328e-04\n",
      "Epoch 99/100\n",
      "127/127 [==============================] - 28s 217ms/step - loss: 9.6070e-04\n",
      "Epoch 100/100\n",
      "127/127 [==============================] - 27s 212ms/step - loss: 9.7361e-04\n"
     ]
    },
    {
     "data": {
      "text/plain": [
       "<tensorflow.python.keras.callbacks.History at 0x169229e0b88>"
      ]
     },
     "execution_count": 24,
     "metadata": {},
     "output_type": "execute_result"
    }
   ],
   "source": [
    "model.fit(X_train.reshape(8071, 100, 1), y_train, epochs=100, batch_size=64, shuffle=False)"
   ]
  },
  {
   "cell_type": "code",
   "execution_count": 26,
   "metadata": {},
   "outputs": [
    {
     "data": {
      "text/plain": [
       "(1943, 100)"
      ]
     },
     "execution_count": 26,
     "metadata": {},
     "output_type": "execute_result"
    }
   ],
   "source": [
    "X_test.shape"
   ]
  },
  {
   "cell_type": "code",
   "execution_count": 27,
   "metadata": {},
   "outputs": [],
   "source": [
    "test_predict = model.predict(X_test.reshape(1943, 100, 1))"
   ]
  },
  {
   "cell_type": "code",
   "execution_count": 30,
   "metadata": {},
   "outputs": [
    {
     "name": "stdout",
     "output_type": "stream",
     "text": [
      "MSE 0.1408226411921899\n",
      "R2 -1.9360964955028548\n"
     ]
    }
   ],
   "source": [
    "print(f'MSE {mean_squared_error(y_test, test_predict)}')\n",
    "print(f'R2 {r2_score(y_test, test_predict)}')"
   ]
  },
  {
   "cell_type": "markdown",
   "metadata": {},
   "source": [
    "## Reference\n",
    "_~ Stock Prediction Using Artifical Recurrent Neural Network by Kumarpal Nagar ~_"
   ]
  }
 ],
 "metadata": {
  "kernelspec": {
   "display_name": "Python 3",
   "language": "python",
   "name": "python3"
  },
  "language_info": {
   "codemirror_mode": {
    "name": "ipython",
    "version": 3
   },
   "file_extension": ".py",
   "mimetype": "text/x-python",
   "name": "python",
   "nbconvert_exporter": "python",
   "pygments_lexer": "ipython3",
   "version": "3.7.4"
  }
 },
 "nbformat": 4,
 "nbformat_minor": 4
}
